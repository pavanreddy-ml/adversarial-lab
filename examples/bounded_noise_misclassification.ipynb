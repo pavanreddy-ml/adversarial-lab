{
 "cells": [
  {
   "cell_type": "code",
   "execution_count": 1,
   "metadata": {},
   "outputs": [],
   "source": [
    "from PIL import Image\n",
    "import matplotlib.pyplot as plt\n",
    "\n",
    "import numpy as np\n",
    "import tensorflow as tf\n",
    "from tensorflow.keras.preprocessing import image\n",
    "from tensorflow.keras.applications import InceptionV3\n",
    "from tensorflow.keras.applications.inception_v3 import preprocess_input, decode_predictions"
   ]
  },
  {
   "cell_type": "code",
   "execution_count": 2,
   "metadata": {},
   "outputs": [],
   "source": [
    "from adversarial_lab.core.noise_generators import AdditiveNoiseGenerator, BoundedNoiseGenerator\n",
    "from adversarial_lab.attacks.whitebox import WhiteBoxMisclassification\n",
    "from adversarial_lab.core.preprocessing import PreprocessingFromFunction\n",
    "from adversarial_lab.utils.plotting import plot_images_and_noise"
   ]
  },
  {
   "cell_type": "code",
   "execution_count": 3,
   "metadata": {},
   "outputs": [],
   "source": [
    "model = InceptionV3(weights='imagenet')\n",
    "\n",
    "def preprocess(x, input):\n",
    "    input = tf.cast(input, dtype=tf.float32)\n",
    "    if len(input.shape) == 2:\n",
    "        input = tf.expand_dims(input, axis=-1)\n",
    "        input = tf.image.grayscale_to_rgb(input)\n",
    "\n",
    "    elif len(input.shape) == 3 and input.shape[-1] == 1:\n",
    "        input = tf.image.grayscale_to_rgb(input)\n",
    "\n",
    "    input_tensor = tf.convert_to_tensor(input, dtype=tf.float32)\n",
    "    resized_image = tf.image.resize(input_tensor, (299, 299))\n",
    "    batch_image = tf.expand_dims(resized_image, axis=0)\n",
    "    return preprocess_input(batch_image)\n",
    "\n",
    "pp = PreprocessingFromFunction.create(preprocess)"
   ]
  },
  {
   "cell_type": "code",
   "execution_count": null,
   "metadata": {},
   "outputs": [],
   "source": [
    "image = Image.open('data/panda.jpg')\n",
    "image_array = np.array(image)\n",
    "\n",
    "np.argmax(model.predict(pp.preprocess(image_array)), axis=1)"
   ]
  },
  {
   "cell_type": "code",
   "execution_count": 5,
   "metadata": {},
   "outputs": [],
   "source": [
    "bbgen = BoundedNoiseGenerator(framework='tf', use_constraints=True, epsilon=0.02, strict=False)\n",
    "bbgen.set_bounds(pp.preprocess(image_array), [(0, 0, 0, 128, 128, 3), (50, 50, 0, 128, 128, 3)])"
   ]
  },
  {
   "cell_type": "code",
   "execution_count": 6,
   "metadata": {},
   "outputs": [],
   "source": [
    "attacker = WhiteBoxMisclassification(model, \"cce\", \"adam\", preprocessing=pp, noise_generator=bbgen)"
   ]
  },
  {
   "cell_type": "code",
   "execution_count": null,
   "metadata": {},
   "outputs": [],
   "source": [
    "noise = attacker.attack(image_array, epochs=100, strategy=\"random\", verbose=3)"
   ]
  },
  {
   "cell_type": "code",
   "execution_count": null,
   "metadata": {},
   "outputs": [],
   "source": [
    "plot_images_and_noise(pp.preprocess(image_array), noise)"
   ]
  }
 ],
 "metadata": {
  "kernelspec": {
   "display_name": "Python 3",
   "language": "python",
   "name": "python3"
  },
  "language_info": {
   "codemirror_mode": {
    "name": "ipython",
    "version": 3
   },
   "file_extension": ".py",
   "mimetype": "text/x-python",
   "name": "python",
   "nbconvert_exporter": "python",
   "pygments_lexer": "ipython3",
   "version": "3.11.9"
  }
 },
 "nbformat": 4,
 "nbformat_minor": 2
}
