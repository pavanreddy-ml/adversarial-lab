{
 "cells": [
  {
   "cell_type": "code",
   "execution_count": 7,
   "metadata": {},
   "outputs": [],
   "source": [
    "from adversarial_lab.core.noise_generators import AdditiveNoiseGenerator\n",
    "from adversarial_lab.attacks.whitebox import WhiteBoxMisclassification\n",
    "from adversarial_lab.core.preprocessing import PreprocessingFromFunction\n",
    "from adversarial_lab.utils.plotting import plot_images_and_noise\n",
    "\n",
    "from PIL import Image\n",
    "import matplotlib.pyplot as plt\n",
    "\n",
    "import numpy as np\n",
    "import tensorflow as tf\n",
    "from tensorflow.keras.preprocessing import image\n",
    "from tensorflow.keras.applications import InceptionV3\n",
    "from tensorflow.keras.applications.inception_v3 import preprocess_input, decode_predictions"
   ]
  },
  {
   "cell_type": "code",
   "execution_count": 8,
   "metadata": {},
   "outputs": [],
   "source": [
    "model = InceptionV3(weights='imagenet')\n",
    "\n",
    "def preprocess(sample, *args, **kwargs):\n",
    "    input = tf.cast(sample, dtype=tf.float32)\n",
    "    if len(input.shape) == 2:\n",
    "        input = tf.expand_dims(input, axis=-1)\n",
    "        input = tf.image.grayscale_to_rgb(input)\n",
    "\n",
    "    elif len(input.shape) == 3 and input.shape[-1] == 1:\n",
    "        input = tf.image.grayscale_to_rgb(input)\n",
    "\n",
    "    input_tensor = tf.convert_to_tensor(input, dtype=tf.float32)\n",
    "    resized_image = tf.image.resize(input_tensor, (299, 299))\n",
    "    batch_image = tf.expand_dims(resized_image, axis=0)\n",
    "    return preprocess_input(batch_image)\n",
    "\n",
    "pp = PreprocessingFromFunction.create(preprocess)"
   ]
  },
  {
   "cell_type": "code",
   "execution_count": 9,
   "metadata": {},
   "outputs": [
    {
     "name": "stdout",
     "output_type": "stream",
     "text": [
      "\u001b[1m1/1\u001b[0m \u001b[32m━━━━━━━━━━━━━━━━━━━━\u001b[0m\u001b[37m\u001b[0m \u001b[1m2s\u001b[0m 2s/step\n"
     ]
    },
    {
     "data": {
      "text/plain": [
       "array([388], dtype=int64)"
      ]
     },
     "execution_count": 9,
     "metadata": {},
     "output_type": "execute_result"
    }
   ],
   "source": [
    "image = Image.open('data/panda.jpg')\n",
    "image_array = np.array(image)\n",
    "\n",
    "np.argmax(model.predict(pp.preprocess(image_array)), axis=1)"
   ]
  },
  {
   "cell_type": "code",
   "execution_count": 10,
   "metadata": {},
   "outputs": [
    {
     "name": "stderr",
     "output_type": "stream",
     "text": [
      "Attacking: 100%|██████████| 20/20 [01:50<00:00,  5.54s/it, Loss=5.86, Prediction=388, Prediction Confidence=0.739]\n"
     ]
    }
   ],
   "source": [
    "attacker = WhiteBoxMisclassification(model, \"cce\", \"adam\", preprocessing=pp)"
   ]
  },
  {
   "cell_type": "code",
   "execution_count": 11,
   "metadata": {},
   "outputs": [
    {
     "name": "stderr",
     "output_type": "stream",
     "text": [
      "Attacking: 100%|██████████| 100/100 [04:12<00:00,  2.49s/it, Loss=4.74, Prediction=388, Prediction Confidence=0.0505]"
     ]
    }
   ],
   "source": [
    "noise = attacker.attack(image_array, epochs=100, strategy=\"random\", verbose=3)"
   ]
  },
  {
   "cell_type": "code",
   "execution_count": 12,
   "metadata": {},
   "outputs": [
    {
     "ename": "TypeError",
     "evalue": "plot_images_and_noise() takes 2 positional arguments but 3 were given",
     "output_type": "error",
     "traceback": [
      "\u001b[1;31m---------------------------------------------------------------------------\u001b[0m",
      "\u001b[1;31mTypeError\u001b[0m                                 Traceback (most recent call last)",
      "Cell \u001b[1;32mIn[12], line 1\u001b[0m\n\u001b[1;32m----> 1\u001b[0m \u001b[43mplot_images_and_noise\u001b[49m\u001b[43m(\u001b[49m\u001b[43mpp\u001b[49m\u001b[38;5;241;43m.\u001b[39;49m\u001b[43mpreprocess\u001b[49m\u001b[43m(\u001b[49m\u001b[43mimage_array\u001b[49m\u001b[43m)\u001b[49m\u001b[43m,\u001b[49m\u001b[43m \u001b[49m\u001b[43mnoise\u001b[49m\u001b[43m,\u001b[49m\u001b[43m \u001b[49m\u001b[43mattacker\u001b[49m\u001b[38;5;241;43m.\u001b[39;49m\u001b[43mnoise_generator\u001b[49m\u001b[43m)\u001b[49m\n",
      "\u001b[1;31mTypeError\u001b[0m: plot_images_and_noise() takes 2 positional arguments but 3 were given"
     ]
    }
   ],
   "source": [
    "plot_images_and_noise(pp.preprocess(image_array), noise, attacker.noise_generator)"
   ]
  }
 ],
 "metadata": {
  "kernelspec": {
   "display_name": "Python 3",
   "language": "python",
   "name": "python3"
  },
  "language_info": {
   "codemirror_mode": {
    "name": "ipython",
    "version": 3
   },
   "file_extension": ".py",
   "mimetype": "text/x-python",
   "name": "python",
   "nbconvert_exporter": "python",
   "pygments_lexer": "ipython3",
   "version": "3.11.9"
  }
 },
 "nbformat": 4,
 "nbformat_minor": 2
}
