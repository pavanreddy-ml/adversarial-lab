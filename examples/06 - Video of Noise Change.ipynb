{
 "cells": [
  {
   "cell_type": "markdown",
   "metadata": {},
   "source": [
    "# Video of Noise Change"
   ]
  },
  {
   "cell_type": "code",
   "execution_count": 1,
   "metadata": {},
   "outputs": [],
   "source": [
    "from adversarial_lab.analytics import *\n",
    "from adversarial_lab.db import SqlliteDB\n",
    "from adversarial_lab.core.optimizers import PGD\n",
    "from adversarial_lab.core.penalties import LpNorm\n",
    "from adversarial_lab.core.losses import CategoricalCrossEntropy\n",
    "from adversarial_lab.attacker.whitebox import WhiteBoxMisclassification\n",
    "from adversarial_lab.core.noise_generators import AdditiveNoiseGenerator\n",
    "from adversarial_lab.core.preprocessing import PreprocessingFromFunction\n",
    "from adversarial_lab.core.constraints import POClip, PONoisedSampleBounding\n",
    "\n",
    "from adversarial_lab.utils import VideoPlotter\n",
    "\n",
    "from PIL import Image\n",
    "import matplotlib.pyplot as plt\n",
    "\n",
    "import numpy as np\n",
    "import tensorflow as tf\n",
    "from tensorflow.keras.preprocessing import image"
   ]
  },
  {
   "cell_type": "code",
   "execution_count": 2,
   "metadata": {},
   "outputs": [],
   "source": [
    "MODEL = \"InceptionV3\"       # Supported models: InceptionV3, ResNet50, MobileNetV2"
   ]
  },
  {
   "cell_type": "code",
   "execution_count": 3,
   "metadata": {},
   "outputs": [],
   "source": [
    "if MODEL == \"InceptionV3\":\n",
    "    from tensorflow.keras.applications import InceptionV3\n",
    "    from tensorflow.keras.applications.inception_v3 import preprocess_input, decode_predictions\n",
    "    model = InceptionV3(weights='imagenet')\n",
    "    input_shape = (299, 299, 3)\n",
    "elif MODEL == \"ResNet50\":\n",
    "    from tensorflow.keras.applications import ResNet50\n",
    "    from tensorflow.keras.applications.resnet50 import preprocess_input, decode_predictions\n",
    "    model = ResNet50(weights='imagenet')\n",
    "    input_shape = (224, 224, 3)\n",
    "elif MODEL == \"MobileNetV2\":\n",
    "    from tensorflow.keras.applications import MobileNetV2\n",
    "    from tensorflow.keras.applications.mobilenet_v2 import preprocess_input, decode_predictions\n",
    "    model = MobileNetV2(weights='imagenet')\n",
    "    input_shape = (224, 224, 3)"
   ]
  },
  {
   "cell_type": "code",
   "execution_count": 4,
   "metadata": {},
   "outputs": [],
   "source": [
    "def preprocess(sample, *args, **kwargs):\n",
    "    input_sample = tf.cast(sample, dtype=tf.float32)\n",
    "    if len(input_sample.shape) == 2:\n",
    "        input_sample = tf.expand_dims(input_sample, axis=-1)\n",
    "        input_sample = tf.image.grayscale_to_rgb(input_sample)\n",
    "\n",
    "    elif len(input_sample.shape) == 3 and input_sample.shape[-1] == 1:\n",
    "        input_sample = tf.image.grayscale_to_rgb(input_sample)\n",
    "\n",
    "    input_tensor = tf.convert_to_tensor(input_sample, dtype=tf.float32)\n",
    "    resized_image = tf.image.resize(input_tensor, (299, 299))\n",
    "    batch_image = tf.expand_dims(resized_image, axis=0)\n",
    "    return preprocess_input(batch_image)"
   ]
  },
  {
   "cell_type": "code",
   "execution_count": 5,
   "metadata": {},
   "outputs": [
    {
     "name": "stdout",
     "output_type": "stream",
     "text": [
      "Predicted class: giant_panda\n",
      "Predicted class index: 388\n"
     ]
    }
   ],
   "source": [
    "image = Image.open('data/panda.jpg')\n",
    "image_array = np.array(image)\n",
    "\n",
    "predictions = model.predict(preprocess(image_array), verbose=0)\n",
    "print(\"Predicted class:\", decode_predictions(predictions, top=1)[0][0][1])\n",
    "print(\"Predicted class index:\", np.argmax(predictions, axis=1)[0])\n"
   ]
  },
  {
   "cell_type": "code",
   "execution_count": 6,
   "metadata": {},
   "outputs": [],
   "source": [
    "loss = CategoricalCrossEntropy(penalties=[LpNorm(p=2, lambda_val=0.001)])\n",
    "optimizer = PGD(learning_rate=1.0)\n",
    "\n",
    "constrain1 = POClip(min=-5, max=5)\n",
    "constrain2 = PONoisedSampleBounding(min=0, max=255)\n",
    "constraints = [constrain1, constrain2]\n",
    "\n",
    "noise_generator = AdditiveNoiseGenerator(scale=[0, 255], dist=\"zeros\")\n",
    "preprocessing = PreprocessingFromFunction.create(preprocess)"
   ]
  },
  {
   "cell_type": "code",
   "execution_count": 7,
   "metadata": {},
   "outputs": [],
   "source": [
    "db = SqlliteDB(db_path=\"whitebox.db\")"
   ]
  },
  {
   "cell_type": "code",
   "execution_count": 8,
   "metadata": {},
   "outputs": [
    {
     "name": "stdout",
     "output_type": "stream",
     "text": [
      "Warning: Table 'whitebox' already exists. Recreating the table.\n"
     ]
    }
   ],
   "source": [
    "analytics = AdversarialAnalytics(\n",
    "    db=db,\n",
    "    trackers=[\n",
    "        ImageTracker(),\n",
    "        LossTracker(),\n",
    "        NoiseStatisticsTracker(),\n",
    "        NoiseTracker(),\n",
    "        PredictionsTracker()\n",
    "    ],\n",
    "    table_name=\"whitebox\",\n",
    "    force_create_table=True\n",
    "    \n",
    ")"
   ]
  },
  {
   "cell_type": "code",
   "execution_count": 9,
   "metadata": {},
   "outputs": [
    {
     "name": "stderr",
     "output_type": "stream",
     "text": [
      "Attacking: 100%|██████████| 50/50 [01:00<00:00,  1.23s/it, Loss=1.92, Prediction (score)=924(0.686), Original Class (score)=388(0.118), Target Class (score)=924(0.686)]"
     ]
    }
   ],
   "source": [
    "attacker = WhiteBoxMisclassification(\n",
    "    model=model,\n",
    "    optimizer=optimizer,\n",
    "    loss=loss,\n",
    "    noise_generator=noise_generator,\n",
    "    constraints=constraints,\n",
    "    preprocessing=preprocessing,\n",
    "    analytics=analytics,\n",
    "    verbose=3)\n",
    "\n",
    "noise = attacker.attack(image_array, \n",
    "                        target_class=924,\n",
    "                        epochs=50, \n",
    "                        on_original=True)"
   ]
  },
  {
   "cell_type": "code",
   "execution_count": 10,
   "metadata": {},
   "outputs": [],
   "source": [
    "plotter = VideoPlotter(db=db, table_name=\"whitebox\")"
   ]
  },
  {
   "cell_type": "code",
   "execution_count": 11,
   "metadata": {},
   "outputs": [
    {
     "name": "stdout",
     "output_type": "stream",
     "text": [
      "Video saved to output_video.mp4\n"
     ]
    }
   ],
   "source": [
    "plotter.make_video()"
   ]
  }
 ],
 "metadata": {
  "kernelspec": {
   "display_name": "Python 3",
   "language": "python",
   "name": "python3"
  },
  "language_info": {
   "codemirror_mode": {
    "name": "ipython",
    "version": 3
   },
   "file_extension": ".py",
   "mimetype": "text/x-python",
   "name": "python",
   "nbconvert_exporter": "python",
   "pygments_lexer": "ipython3",
   "version": "3.11.9"
  }
 },
 "nbformat": 4,
 "nbformat_minor": 2
}
