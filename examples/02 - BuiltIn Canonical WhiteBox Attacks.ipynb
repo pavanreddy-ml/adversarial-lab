{
 "cells": [
  {
   "cell_type": "markdown",
   "metadata": {},
   "source": [
    "# Canonical Whitebox Misclassification Attacks Example"
   ]
  },
  {
   "cell_type": "markdown",
   "metadata": {},
   "source": [
    "## 1. Setup and Imports\n",
    "\n",
    "This cell imports all the necessary modules from the `adversarial_lab` library, as well as other common libraries like TensorFlow, NumPy, and PIL for image manipulation and numerical operations.\n",
    "\n",
    "Key `adversarial_lab` modules used:\n",
    "* `PGD`: Projected Gradient Descent optimizer used to generate adversarial noise.\n",
    "* `CategoricalCrossEntropy`: Loss function to guide the optimization.\n",
    "* `WhiteBoxMisclassification`: The main attacker class.\n",
    "* `AdditiveNoiseGenerator`: Generates the initial noise (can be zeros, random, etc.).\n",
    "* `PreprocessingFromFunction`: Wraps a custom preprocessing function.\n",
    "* `POClip`, `PONoisedSampleBounding`: Constraints applied to the noise or the noisy sample.\n",
    "* `Plotting`: Utility for visualizing images and noise."
   ]
  },
  {
   "cell_type": "code",
   "execution_count": null,
   "metadata": {},
   "outputs": [],
   "source": [
    "from adversarial_lab.core.optimizers import PGD\n",
    "from adversarial_lab.core.losses import CategoricalCrossEntropy\n",
    "from adversarial_lab.attacker.whitebox import WhiteBoxMisclassification\n",
    "from adversarial_lab.core.noise_generators import AdditiveNoiseGenerator\n",
    "from adversarial_lab.core.preprocessing import PreprocessingFromFunction\n",
    "from adversarial_lab.core.constraints import POClip, PONoisedSampleBounding\n",
    "from adversarial_lab.callbacks import EarlyStopping\n",
    "from adversarial_lab.arsenal.whitebox import *\n",
    "\n",
    "from adversarial_lab.utils import Plotting\n",
    "\n",
    "from PIL import Image\n",
    "import matplotlib.pyplot as plt\n",
    "\n",
    "import numpy as np\n",
    "import tensorflow as tf\n",
    "from tensorflow.keras.preprocessing import image"
   ]
  },
  {
   "cell_type": "markdown",
   "metadata": {},
   "source": [
    "## 2. Model Selection and Loading\n",
    "\n",
    "Here, you can choose which pre-trained model to attack. The supported models are `InceptionV3`, `ResNet50`, and `MobileNetV2`.\n",
    "The subsequent code cell will load the chosen Keras application model with pre-trained ImageNet weights and set the appropriate `input_shape` and model-specific `preprocess_input` and `decode_predictions` functions.\n"
   ]
  },
  {
   "cell_type": "code",
   "execution_count": null,
   "metadata": {},
   "outputs": [],
   "source": [
    "MODEL = \"InceptionV3\"       # Supported models: InceptionV3, ResNet50, MobileNetV2"
   ]
  },
  {
   "cell_type": "code",
   "execution_count": null,
   "metadata": {},
   "outputs": [],
   "source": [
    "if MODEL == \"InceptionV3\":\n",
    "    from tensorflow.keras.applications import InceptionV3\n",
    "    from tensorflow.keras.applications.inception_v3 import preprocess_input, decode_predictions\n",
    "    model = InceptionV3(weights='imagenet')\n",
    "    input_shape = (299, 299, 3)\n",
    "elif MODEL == \"ResNet50\":\n",
    "    from tensorflow.keras.applications import ResNet50\n",
    "    from tensorflow.keras.applications.resnet50 import preprocess_input, decode_predictions\n",
    "    model = ResNet50(weights='imagenet')\n",
    "    input_shape = (224, 224, 3)\n",
    "elif MODEL == \"MobileNetV2\":\n",
    "    from tensorflow.keras.applications import MobileNetV2\n",
    "    from tensorflow.keras.applications.mobilenet_v2 import preprocess_input, decode_predictions\n",
    "    model = MobileNetV2(weights='imagenet')\n",
    "    input_shape = (224, 224, 3)"
   ]
  },
  {
   "cell_type": "markdown",
   "metadata": {},
   "source": [
    "## 3. Image Preprocessing Function\n",
    "\n",
    "Neural network models expect input data in a specific format. This `preprocess` function handles:\n",
    "* **Type Casting**: Converts the input image data to `float32`.\n",
    "* **Grayscale to RGB**: Converts grayscale images (2D or 3D with 1 channel) to 3-channel RGB format, as expected by the pre-trained models.\n",
    "* **Resizing**: Resizes the image to the model's required input dimensions (e.g., (299, 299) for InceptionV3).\n",
    "* **Batch Dimension**: Adds a batch dimension to the image tensor, as models typically expect batches of images.\n",
    "* **Model-Specific Preprocessing**: Applies the specific preprocessing steps required by the chosen Keras model (e.g., scaling pixel values to a certain range like [-1, 1] or [0, 1], or BGR conversion if necessary)."
   ]
  },
  {
   "cell_type": "code",
   "execution_count": null,
   "metadata": {},
   "outputs": [],
   "source": [
    "def preprocess(sample, *args, **kwargs):\n",
    "    input_sample = tf.cast(sample, dtype=tf.float32)\n",
    "    if len(input_sample.shape) == 2:\n",
    "        input_sample = tf.expand_dims(input_sample, axis=-1)\n",
    "        input_sample = tf.image.grayscale_to_rgb(input_sample)\n",
    "\n",
    "    elif len(input_sample.shape) == 3 and input_sample.shape[-1] == 1:\n",
    "        input_sample = tf.image.grayscale_to_rgb(input_sample)\n",
    "\n",
    "    input_tensor = tf.convert_to_tensor(input_sample, dtype=tf.float32)\n",
    "    resized_image = tf.image.resize(input_tensor, input_shape[:2])\n",
    "    batch_image = tf.expand_dims(resized_image, axis=0)\n",
    "    return preprocess_input(batch_image)"
   ]
  },
  {
   "cell_type": "markdown",
   "metadata": {},
   "source": [
    "## 4. Load and Classify Original Image\n",
    "\n",
    "This cell loads an example image (`panda.jpg`). We then preprocess it and get the model's prediction on this original image. This establishes a baseline classification before applying any adversarial attack. The top predicted classes and their probabilities are displayed.\n"
   ]
  },
  {
   "cell_type": "code",
   "execution_count": null,
   "metadata": {},
   "outputs": [],
   "source": [
    "image = Image.open('data/panda.jpg')\n",
    "image_array = np.array(image)\n",
    "\n",
    "predictions = model.predict(preprocess(image_array), verbose=0)\n",
    "print(\"Predicted class:\", decode_predictions(predictions, top=1)[0][0][1])\n",
    "print(\"Predicted class index:\", np.argmax(predictions, axis=1)[0])\n",
    "print(\"Predicted class probability:\", np.max(predictions, axis=1)[0])"
   ]
  },
  {
   "cell_type": "markdown",
   "metadata": {},
   "source": [
    "## FAST SIGN GRADIENT METHOD"
   ]
  },
  {
   "cell_type": "code",
   "execution_count": null,
   "metadata": {},
   "outputs": [],
   "source": [
    "EPSILON = 0.05\n",
    "\n",
    "attacker = FastSignGradientMethodAttack(\n",
    "    model=model,\n",
    "    preprocessing_fn=PreprocessingFromFunction.create(preprocess),\n",
    "    epsilon=EPSILON,\n",
    "    binary=False\n",
    ")\n",
    "\n",
    "noise, noise_meta = attacker.attack(\n",
    "    sample=image_array,\n",
    "    target_class=924,\n",
    "    on_original=True\n",
    ")\n",
    "\n",
    "Plotting.plot_images_and_noise(image_array, noise)"
   ]
  },
  {
   "cell_type": "markdown",
   "metadata": {},
   "source": [
    "## Projected Gradient Descent"
   ]
  },
  {
   "cell_type": "code",
   "execution_count": null,
   "metadata": {},
   "outputs": [],
   "source": [
    "EPSILON = 0.05\n",
    "LEARNING_RATE = 1\n",
    "EPOCHS = 10\n",
    "\n",
    "early_stopping = EarlyStopping(trigger=\"misclassification\", target_class=924, confidence=0.5)\n",
    "\n",
    "attacker = ProjectedGradientDescentAttack(\n",
    "    model=model,\n",
    "    preprocessing_fn=PreprocessingFromFunction.create(preprocess),\n",
    "    epsilon=EPSILON,\n",
    "    binary=False,\n",
    "    callbacks=[early_stopping],\n",
    ")\n",
    "\n",
    "noise, noise_meta = attacker.attack(\n",
    "    sample=image_array,\n",
    "    target_class=924,\n",
    "    on_original=True\n",
    ")\n",
    "\n",
    "Plotting.plot_images_and_noise(image_array, noise)"
   ]
  },
  {
   "cell_type": "markdown",
   "metadata": {},
   "source": [
    "## Carlini Wagner Attack"
   ]
  },
  {
   "cell_type": "code",
   "execution_count": null,
   "metadata": {},
   "outputs": [],
   "source": [
    "C = 15\n",
    "KAPPA = 0.5\n",
    "LEARNING_RATE = 1\n",
    "EPOCHS = 10\n",
    "\n",
    "early_stopping = EarlyStopping(trigger=\"misclassification\", target_class=924, confidence=0.5)\n",
    "\n",
    "attacker = CarliniWagnerAttack(\n",
    "    model=model,\n",
    "    preprocessing_fn=PreprocessingFromFunction.create(preprocess),\n",
    "    C=C,\n",
    "    kappa=KAPPA,\n",
    "    learning_rate=float(LEARNING_RATE),\n",
    "    callbacks=[early_stopping],\n",
    ")\n",
    "\n",
    "noise, noise_meta = attacker.attack(\n",
    "    sample=image_array,\n",
    "    target_class=924,\n",
    "    on_original=True\n",
    ")\n",
    "\n",
    "Plotting.plot_images_and_noise(image_array, noise)"
   ]
  },
  {
   "cell_type": "markdown",
   "metadata": {},
   "source": [
    "## Deep Fool"
   ]
  },
  {
   "cell_type": "code",
   "execution_count": null,
   "metadata": {},
   "outputs": [],
   "source": [
    "EPSILON = 0.05\n",
    "EPOCHS = 10\n",
    "OVERSHOOT = 0.1\n",
    "\n",
    "early_stopping = EarlyStopping(trigger=\"misclassification\", confidence=0.2)\n",
    "preprocessing_fn = PreprocessingFromFunction.create(preprocess)\n",
    "\n",
    "attacker = DeepFoolAttack(\n",
    "    model=model,\n",
    "    preprocessing_fn=preprocessing_fn,\n",
    "    epsilon=EPSILON,\n",
    "    overshoot=OVERSHOOT,\n",
    "    callbacks=[early_stopping],\n",
    "    efficient_mode=10,\n",
    ")\n",
    "\n",
    "noise, noise_meta = attacker.attack(\n",
    "    sample=image_array,\n",
    "    target_class=924,\n",
    ")\n",
    "\n",
    "Plotting.plot_images_and_noise(preprocessing_fn.preprocess(image_array).numpy(), noise)"
   ]
  },
  {
   "cell_type": "markdown",
   "metadata": {},
   "source": [
    "## Smooth fool"
   ]
  },
  {
   "cell_type": "code",
   "execution_count": null,
   "metadata": {},
   "outputs": [],
   "source": [
    "EPSILON = 0.05\n",
    "EPOCHS = 10\n",
    "OVERSHOOT = 0.1\n",
    "SIGMA = 0.5\n",
    "KERNEL_SIZE = 5\n",
    "\n",
    "early_stopping = EarlyStopping(trigger=\"misclassification\", confidence=0.2)\n",
    "preprocessing_fn = PreprocessingFromFunction.create(preprocess)\n",
    "\n",
    "attacker = SmoothFoolAttack(\n",
    "    model=model,\n",
    "    preprocessing_fn=PreprocessingFromFunction.create(preprocess),\n",
    "    epsilon=EPSILON,\n",
    "    overshoot=OVERSHOOT,\n",
    "    sigma=SIGMA,\n",
    "    kernel_size=KERNEL_SIZE,\n",
    "    callbacks=[early_stopping],\n",
    "    efficient_mode=10,\n",
    ")\n",
    "\n",
    "noise, noise_meta = attacker.attack(\n",
    "    sample=image_array,\n",
    "    target_class=924,\n",
    ")\n",
    "\n",
    "Plotting.plot_images_and_noise(preprocessing_fn.preprocess(image_array).numpy(), noise)"
   ]
  }
 ],
 "metadata": {
  "kernelspec": {
   "display_name": "Python 3",
   "language": "python",
   "name": "python3"
  },
  "language_info": {
   "codemirror_mode": {
    "name": "ipython",
    "version": 3
   },
   "file_extension": ".py",
   "mimetype": "text/x-python",
   "name": "python",
   "nbconvert_exporter": "python",
   "pygments_lexer": "ipython3",
   "version": "3.11.9"
  }
 },
 "nbformat": 4,
 "nbformat_minor": 2
}
