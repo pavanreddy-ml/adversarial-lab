{
 "cells": [
  {
   "cell_type": "code",
   "execution_count": null,
   "metadata": {},
   "outputs": [],
   "source": [
    "from adversarial_lab.core import ALModel\n",
    "from adversarial_lab.core.noise_generators import AdditiveNoiseGenerator\n",
    "from adversarial_lab.attacks.whitebox import WhiteBoxMisclassification\n",
    "from adversarial_lab.core.preprocessing import PreprocessingFromFunction\n",
    "from adversarial_lab.utils.plotting import plot_images_and_noise\n",
    "\n",
    "from PIL import Image\n",
    "import matplotlib.pyplot as plt\n",
    "\n",
    "import numpy as np\n",
    "import tensorflow as tf\n",
    "from tensorflow.keras.preprocessing import image\n",
    "from tensorflow.keras.applications import InceptionV3\n",
    "from tensorflow.keras.applications.inception_v3 import preprocess_input, decode_predictions"
   ]
  },
  {
   "cell_type": "code",
   "execution_count": null,
   "metadata": {},
   "outputs": [],
   "source": [
    "model = InceptionV3(weights='imagenet')\n",
    "model = ALModel(model=model)\n",
    "\n",
    "def preprocess(x, input):\n",
    "    input = tf.cast(input, dtype=tf.float32)\n",
    "    if len(input.shape) == 2:\n",
    "        input = tf.expand_dims(input, axis=-1)\n",
    "        input = tf.image.grayscale_to_rgb(input)\n",
    "\n",
    "    elif len(input.shape) == 3 and input.shape[-1] == 1:\n",
    "        input = tf.image.grayscale_to_rgb(input)\n",
    "\n",
    "    input_tensor = tf.convert_to_tensor(input, dtype=tf.float32)\n",
    "    resized_image = tf.image.resize(input_tensor, (299, 299))\n",
    "    batch_image = tf.expand_dims(resized_image, axis=0)\n",
    "    return preprocess_input(batch_image)\n",
    "\n",
    "pp = PreprocessingFromFunction.create(preprocess)"
   ]
  },
  {
   "cell_type": "code",
   "execution_count": null,
   "metadata": {},
   "outputs": [],
   "source": [
    "image = Image.open('data/panda.jpg')\n",
    "image_array = np.array(image)\n",
    "\n",
    "np.argmax(model.predict(pp.preprocess(image_array)), axis=1)"
   ]
  },
  {
   "cell_type": "code",
   "execution_count": null,
   "metadata": {},
   "outputs": [],
   "source": [
    "from adversarial_lab.analytics import AdversarialAnalytics, ImageTracker, LossTracker, PredictionsTracker\n",
    "from adversarial_lab.db.sqllite import SqlliteDB\n",
    "\n",
    "db = SqlliteDB(db_path=\"whitebox.db\")\n",
    "analytics = AdversarialAnalytics(db, \n",
    "                                 [\n",
    "                                     ImageTracker(), \n",
    "                                     LossTracker(track_batch=False), \n",
    "                                     PredictionsTracker(track_batch=False, strategy=\"first_topk\")\n",
    "                                 ], \n",
    "                                 \"test\", \n",
    "                                 True)"
   ]
  },
  {
   "cell_type": "code",
   "execution_count": null,
   "metadata": {},
   "outputs": [],
   "source": [
    "from adversarial_lab.core.losses import CategoricalCrossEntropy\n",
    "from adversarial_lab.core.losses.penalty import LpNorm\n",
    "\n",
    "loss = CategoricalCrossEntropy(framework=\"tensorflow\",\n",
    "                               penalties=[LpNorm(framework=\"tensorflow\", p=2)])"
   ]
  },
  {
   "cell_type": "code",
   "execution_count": null,
   "metadata": {},
   "outputs": [],
   "source": [
    "attacker = WhiteBoxMisclassification(model, \"cce\", \"adam\", preprocessing=pp, analytics=analytics)"
   ]
  },
  {
   "cell_type": "code",
   "execution_count": null,
   "metadata": {},
   "outputs": [],
   "source": [
    "noise = attacker.attack(image_array, target_class=924, epochs=100, strategy=\"random\", verbose=3)"
   ]
  },
  {
   "cell_type": "code",
   "execution_count": null,
   "metadata": {},
   "outputs": [],
   "source": [
    "plot_images_and_noise(pp.preprocess(image_array), noise, attacker.noise_generator)\n"
   ]
  }
 ],
 "metadata": {
  "kernelspec": {
   "display_name": "Python 3",
   "language": "python",
   "name": "python3"
  },
  "language_info": {
   "codemirror_mode": {
    "name": "ipython",
    "version": 3
   },
   "file_extension": ".py",
   "mimetype": "text/x-python",
   "name": "python",
   "nbconvert_exporter": "python",
   "pygments_lexer": "ipython3",
   "version": "3.11.9"
  }
 },
 "nbformat": 4,
 "nbformat_minor": 2
}
